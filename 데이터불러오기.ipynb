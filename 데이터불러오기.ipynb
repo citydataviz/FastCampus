{
  "nbformat": 4,
  "nbformat_minor": 0,
  "metadata": {
    "colab": {
      "provenance": [],
      "authorship_tag": "ABX9TyO5bTy/+sHOCF9QwMmGSmoz",
      "include_colab_link": true
    },
    "kernelspec": {
      "name": "python3",
      "display_name": "Python 3"
    },
    "language_info": {
      "name": "python"
    }
  },
  "cells": [
    {
      "cell_type": "markdown",
      "metadata": {
        "id": "view-in-github",
        "colab_type": "text"
      },
      "source": [
        "<a href=\"https://colab.research.google.com/github/citydataviz/FastCampus/blob/main/%08%EB%8D%B0%EC%9D%B4%ED%84%B0%EB%B6%88%EB%9F%AC%EC%98%A4%EA%B8%B0.ipynb\" target=\"_parent\"><img src=\"https://colab.research.google.com/assets/colab-badge.svg\" alt=\"Open In Colab\"/></a>"
      ]
    },
    {
      "cell_type": "markdown",
      "source": [
        "## 콜랩 샘플 데이터 불러오기\n",
        "\n",
        "- 샘플 폴더에 위치한 california_housing_test.csv 파일을 읽어보자.\n",
        "- 힌트: pandas.read_csv 사용"
      ],
      "metadata": {
        "id": "UeRUNhTu_4ol"
      }
    },
    {
      "cell_type": "code",
      "source": [
        "# 데이터프레임을 df 변수이름으로 저장\n"
      ],
      "metadata": {
        "id": "kSxl-8p9znem"
      },
      "execution_count": null,
      "outputs": []
    },
    {
      "cell_type": "code",
      "source": [
        "# 첫번째 5개 행 읽기 (head)\n"
      ],
      "metadata": {
        "id": "Oh8HdPFAWMw4"
      },
      "execution_count": 10,
      "outputs": []
    },
    {
      "cell_type": "markdown",
      "source": [
        "## 로컬 파일 데이터 불러오기\n",
        " 1) 단순 업로드 방식\n",
        "  - 일정 시간 지나면 업로드 파일 자동삭제 : 대용량 파일이나 지속적인 작업을 위해서는 추천하지 않는다.\n",
        "  - https://github.com/citydataviz/FastCampus/blob/main/Part4/project02.population.xlsx 에서 project02.population.xlsx  파일을 다운로드 받은 후 로컬파일 업로드\n",
        "  - 힌트: pandas.read_excel 사용\n",
        "  - 경로설정에 유의"
      ],
      "metadata": {
        "id": "C2CIi3q7AmeN"
      }
    },
    {
      "cell_type": "code",
      "source": [],
      "metadata": {
        "id": "vtsePE-SVgFO"
      },
      "execution_count": null,
      "outputs": []
    },
    {
      "cell_type": "markdown",
      "source": [
        "2) 외부 링크 연결\n",
        "- 링크로 연결된 해당 폴더를 모두 가져올 수 있음\n",
        "- https://github.com/citydataviz/FastCampus 를 연결할 것\n",
        "- Part4 > project02.population.xlsx 파일 읽기\n",
        "- 힌트: pandas.read_excel 사용\n",
        "- 경로설정에 유의"
      ],
      "metadata": {
        "id": "9tuQVIlHBWJl"
      }
    },
    {
      "cell_type": "code",
      "source": [],
      "metadata": {
        "id": "ZNtibPf9BYet"
      },
      "execution_count": null,
      "outputs": []
    }
  ]
}