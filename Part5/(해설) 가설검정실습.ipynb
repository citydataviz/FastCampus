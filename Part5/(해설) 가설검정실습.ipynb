{
  "nbformat": 4,
  "nbformat_minor": 0,
  "metadata": {
    "colab": {
      "provenance": []
    },
    "kernelspec": {
      "name": "python3",
      "display_name": "Python 3"
    },
    "language_info": {
      "name": "python"
    }
  },
  "cells": [
    {
      "cell_type": "markdown",
      "source": [
        "# 가설검정 실습"
      ],
      "metadata": {
        "id": "VhTak_Q2b5AU"
      }
    },
    {
      "cell_type": "markdown",
      "source": [
        "## 1) One Sample t-test (일표본 t-검정)\n",
        "- 전국 학생의 평균 키가 175cm라고 가정해보자.\n",
        "- 특정 학교에 재학 중인 학생 20명을 샘플해서 아래와 같은 결과를 얻었을 때, 해당 20명의 샘플 평균이 모집단(전국 학생)의 평균과 유의하게 다른지 확인하려고 한다.\n"
      ],
      "metadata": {
        "id": "E00XQLDfb6GQ"
      }
    },
    {
      "cell_type": "code",
      "execution_count": 2,
      "metadata": {
        "id": "LE-tRZI3b4HK"
      },
      "outputs": [],
      "source": [
        "import pandas as pd\n",
        "import numpy as np\n",
        "from scipy.stats import ttest_1samp\n",
        "\n",
        "heights = [165, 170, 175, 180, 165, 170, 165, 175, 170, 175, 180, 180, 165, 170,\n",
        "170, 170, 175, 170, 175, 180]"
      ]
    },
    {
      "cell_type": "code",
      "source": [
        "# 평균을 계산\n",
        "np.mean(heights)"
      ],
      "metadata": {
        "colab": {
          "base_uri": "https://localhost:8080/"
        },
        "id": "JLsl9iMAcIou",
        "outputId": "3af3667c-260f-47e3-8084-b6cff8b971f8"
      },
      "execution_count": 3,
      "outputs": [
        {
          "output_type": "execute_result",
          "data": {
            "text/plain": [
              "172.25"
            ]
          },
          "metadata": {},
          "execution_count": 3
        }
      ]
    },
    {
      "cell_type": "code",
      "source": [
        "import matplotlib.pyplot as plt\n",
        "\n",
        "population_mean = 175\n",
        "\n",
        "t_statistic, p_value = ttest_1samp(heights, population_mean)\n",
        "print(f\"t-통계량: {t_statistic:.3f}, p-값: {p_value:.3f}\")\n"
      ],
      "metadata": {
        "colab": {
          "base_uri": "https://localhost:8080/"
        },
        "id": "WEVKwVDGcqe0",
        "outputId": "ab4564b0-db4d-40b7-e633-7c944406ec90"
      },
      "execution_count": 16,
      "outputs": [
        {
          "output_type": "stream",
          "name": "stdout",
          "text": [
            "t-통계량: -2.342, p-값: 0.030\n"
          ]
        }
      ]
    },
    {
      "cell_type": "code",
      "source": [
        "# 결과 해석\n",
        "# t-통계량: -2.342\n",
        "\n",
        "# t-통계량이 음수라는 것은 표본 평균이 모집단 평균(175cm)보다 작음을 나타냅니다.\n",
        "# p-값: 0.030\n",
        "\n",
        "# p-값이 0.05보다 작으므로, 유의수준 5%에서 귀무가설을 기각할 수 있습니다.\n",
        "# 즉, 표본 평균(샘플링한 20명의 키)이 모집단 평균(175cm)과 통계적으로 유의미하게 다르다고 결론지을 수 있습니다."
      ],
      "metadata": {
        "id": "SC66QEPscgR7"
      },
      "execution_count": null,
      "outputs": []
    },
    {
      "cell_type": "markdown",
      "source": [
        "1-sample t-test는 **기준값(목표, 기존 평균, 정책 기준 등)**과 실제 데이터를 비교할 때 유용"
      ],
      "metadata": {
        "id": "e43UfWQhwBTb"
      }
    },
    {
      "cell_type": "markdown",
      "source": [
        "## 2) Two Sample t-test (일표본 t-검정)\n",
        "- 두 학생 그룹인 A그룹과 B그룹의 평균 키를 비교한다고 가정하자.\n",
        "- A그룹: 평균이 160이고, 표준편차가 10인 30개의 키 데이터를 생성\n",
        "- B그룹: 평균이 170이고, 표준편차가 8인 25개의 키 데이터를 생성\n",
        "- 두 그룹의 평균 키가 유의미한 차이가 있는가?\n"
      ],
      "metadata": {
        "id": "BVBJEnDyu2Em"
      }
    },
    {
      "cell_type": "code",
      "source": [
        "np.random.seed(14)\n",
        "\n",
        "group_a_heights = np.random.normal(160, 10, 30)\n",
        "group_b_heights = np.random.normal(170, 8, 25)"
      ],
      "metadata": {
        "id": "09A-fJU7uq0b"
      },
      "execution_count": 10,
      "outputs": []
    },
    {
      "cell_type": "code",
      "source": [
        "from scipy.stats import ttest_ind\n",
        "\n",
        "t_statistic_ind, p_value_ind = ttest_ind(group_a_heights, group_b_heights)\n",
        "print(f\"투 샘플 t-통계량: {t_statistic_ind:.3f}, p-값: {p_value_ind:.3f}\")\n"
      ],
      "metadata": {
        "colab": {
          "base_uri": "https://localhost:8080/"
        },
        "id": "yfABbvFJuq2f",
        "outputId": "9129ce3e-0aa4-41fe-ccba-881f566033dc"
      },
      "execution_count": 17,
      "outputs": [
        {
          "output_type": "stream",
          "name": "stdout",
          "text": [
            "투 샘플 t-통계량: -3.070, p-값: 0.003\n"
          ]
        }
      ]
    },
    {
      "cell_type": "code",
      "source": [
        "# t-통계량: -3.070\n",
        "\n",
        "# t-통계량이 음수라는 것은 A그룹의 평균이 B그룹의 평균보다 작음을 나타냅니다.\n",
        "# p-값: 0.0034\n",
        "\n",
        "# p-값이 일반적으로 사용하는 유의수준 0.05보다 작으므로, 귀무가설(H₀)을 기각할 수 있습니다\n",
        "# 즉, A그룹과 B그룹의 평균 키는 통계적으로 유의미하게 다르다고 결론지을 수 있습니다."
      ],
      "metadata": {
        "id": "I1h2sNIcuq4t"
      },
      "execution_count": null,
      "outputs": []
    },
    {
      "cell_type": "markdown",
      "source": [
        "two sample t-test는 두 개의 변수에 대한 측정값을 비교할 때 유용"
      ],
      "metadata": {
        "id": "av4rteqbGtFK"
      }
    },
    {
      "cell_type": "markdown",
      "source": [
        "## 3) Paired Sample t-test (대응표본 t-검정)\n",
        "- 새로운 교육 프로그램이 특정 업무에서 직원의 성과를 향상시키는지를 검증하고자 한다.\n",
        "- 교육 프로그램 전후에 직원 10명의 성과를 측정하고 점수에 유의미한 차이가 있는지 확인"
      ],
      "metadata": {
        "id": "CbTUfPoj4yzs"
      }
    },
    {
      "cell_type": "code",
      "source": [
        "from scipy.stats import ttest_rel\n",
        "\n",
        "before_scores = np.array([62, 75, 85, 79, 67, 74, 80, 60, 65, 72])\n",
        "after_scores = np.array([72, 78, 91, 85, 70, 80, 88, 65, 70, 82])"
      ],
      "metadata": {
        "id": "efQWx_9o5wEz"
      },
      "execution_count": 13,
      "outputs": []
    },
    {
      "cell_type": "code",
      "source": [
        "stat, p_value = ttest_rel(before_scores, after_scores)\n",
        "\n",
        "# 결과 출력\n",
        "print(f\"t-통계량: {stat:.3f}\")\n",
        "print(f\"p-값: {p_value:.3f}\")"
      ],
      "metadata": {
        "colab": {
          "base_uri": "https://localhost:8080/"
        },
        "id": "bIP1yZmdHVhO",
        "outputId": "a54aa584-dc54-4b52-c121-4205b13f044f"
      },
      "execution_count": 14,
      "outputs": [
        {
          "output_type": "stream",
          "name": "stdout",
          "text": [
            "t-통계량: -7.888\n",
            "p-값: 0.000\n"
          ]
        }
      ]
    },
    {
      "cell_type": "code",
      "source": [
        "# t-통계량: -7.888\n",
        "# 이는 두 그룹(교육 프로그램 전후 점수)의 평균 차이가 통계적으로 얼마나 강력한지를 나타냅니다. 음수인 이유는 after_scores의 평균이 before_scores의 평균보다 높음을 의미합니다.\n",
        "# p-값: 0.000\n",
        "# p-값이 0.05(일반적으로 사용하는 유의수준)보다 작으므로, 두 그룹 간 평균 차이에 통계적으로 유의미한 차이가 있다고 결론지을 수 있습니다."
      ],
      "metadata": {
        "id": "7lVkQc6SHWT0"
      },
      "execution_count": null,
      "outputs": []
    },
    {
      "cell_type": "markdown",
      "source": [
        "두 그룹(또는 두 조건) 간의 비교를 수행하되, 같은 개체에서 측정된 값을 비교 (독립적이지 않고 서로 연관이 있어야 함)"
      ],
      "metadata": {
        "id": "Ji9q36YhIMCr"
      }
    },
    {
      "cell_type": "markdown",
      "source": [
        "## 4) ANOVA (분산분석 검정)\n",
        "- a,b,c 세 그룹의 식물이 있고, 각 그룹의 식물 평균 높이가 차이 있는지 알고 싶다."
      ],
      "metadata": {
        "id": "1FICV7FzIcv7"
      }
    },
    {
      "cell_type": "code",
      "source": [
        "import scipy.stats as stats\n",
        "\n",
        "group_a = [10, 12, 13, 14, 15]\n",
        "group_b = [12, 13, 14, 15, 16]\n",
        "group_c = [14, 15, 16, 17, 18]"
      ],
      "metadata": {
        "id": "InFH_gwEH6Vl"
      },
      "execution_count": 20,
      "outputs": []
    },
    {
      "cell_type": "code",
      "source": [
        "\n",
        "f_stat, p_value = stats.f_oneway(group_a, group_b, group_c)\n",
        "\n",
        "# 결과 출력\n",
        "print(f\"F-통계량: {f_stat:.3f}\")\n",
        "print(f\"p-값: {p_value:.3f}\")"
      ],
      "metadata": {
        "colab": {
          "base_uri": "https://localhost:8080/"
        },
        "id": "3h-QmsuCI9sr",
        "outputId": "b22da95f-ce67-4389-a01b-93fb2a187bd5"
      },
      "execution_count": 22,
      "outputs": [
        {
          "output_type": "stream",
          "name": "stdout",
          "text": [
            "F-통계량: 4.506\n",
            "p-값: 0.035\n"
          ]
        }
      ]
    },
    {
      "cell_type": "code",
      "source": [
        "# F-통계량: 4.506\n",
        "\n",
        "# 그룹 간 분산(그룹 평균의 차이)이 그룹 내 분산(개별 데이터의 변동성)보다 약 4.5배 크다는 것을 의미합니다.\n",
        "# F-통계량이 높을수록 그룹 간 차이가 클 가능성이 증가합니다.\n",
        "#p-값: 0.035\n",
        "\n",
        "# p-값 < 0.05(유의수준): 귀무가설을 기각할 수 있습니다.\n",
        "# 세 그룹 간 평균 높이에 통계적으로 유의미한 차이가 있다는 것을 나타냅니다."
      ],
      "metadata": {
        "id": "XGjh1LLfJVOZ"
      },
      "execution_count": null,
      "outputs": []
    },
    {
      "cell_type": "markdown",
      "source": [
        "3개 이상의 그룹 간에 유의미한 차이를 확인할 때 유용"
      ],
      "metadata": {
        "id": "pH7tPPsCIv0Q"
      }
    },
    {
      "cell_type": "markdown",
      "source": [
        "이후에 배울 회귀분석도 가설검정의 범주에 해당"
      ],
      "metadata": {
        "id": "6MZEcDpBJa46"
      }
    }
  ]
}