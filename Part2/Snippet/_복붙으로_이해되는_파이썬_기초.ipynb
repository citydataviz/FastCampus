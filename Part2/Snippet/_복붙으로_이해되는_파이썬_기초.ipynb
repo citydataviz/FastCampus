{
  "nbformat": 4,
  "nbformat_minor": 0,
  "metadata": {
    "colab": {
      "provenance": []
    },
    "kernelspec": {
      "name": "python3",
      "display_name": "Python 3"
    },
    "language_info": {
      "name": "python"
    }
  },
  "cells": [
    {
      "cell_type": "markdown",
      "source": [
        "## 파이썬을 하나도 모르지만, 우리는 아래 문제들을 ChatGPT와 함께 풀어나갈 수 있습니다.\n",
        "## 그러면서 자연스럽게 파이썬이 어떻게 실행되는지 이해해 보겠습니다."
      ],
      "metadata": {
        "id": "LhwmyRRmIbGX"
      }
    },
    {
      "cell_type": "markdown",
      "source": [
        "### 문제 1. 평균 계산하기\n",
        "\n",
        "- 김대리는 5개의 과목에서 다음과 같은 성적을 받았습니다.\n",
        "\n",
        "- 김대리가 받은 성적의 평균을 계산하는 코드를 작성하세요."
      ],
      "metadata": {
        "id": "-XFBYMTCI8pP"
      }
    },
    {
      "cell_type": "code",
      "source": [
        "# 각 성적은 0~100점 사이입니다.\n",
        "grades = [65, 70, 100, 43, 50]"
      ],
      "metadata": {
        "id": "Jrwe21_4I6JJ"
      },
      "execution_count": null,
      "outputs": []
    },
    {
      "cell_type": "markdown",
      "source": [
        "### 문제 2. 리스트를 한 번 만들어볼까요?\n",
        "* 한 회사의 직원 5명의 월급 정보가 주어집니다.\n",
        "* 이를 리스트로 만들고 salaries라는 변수에 담아주세요.\n",
        "\n",
        "* 5000, 3200, 4500, 3800, 4100\n",
        "\n",
        "> 단위인 원은 표시하지 마세요. 숫자만!"
      ],
      "metadata": {
        "id": "B_ghQKvBJFnu"
      }
    },
    {
      "cell_type": "code",
      "source": [
        "\n"
      ],
      "metadata": {
        "id": "nVDek7ltk9Jw"
      },
      "execution_count": null,
      "outputs": []
    },
    {
      "cell_type": "markdown",
      "source": [
        "### 문제 3. 리스트의 데이터 타입을 한 번 만들어볼까요?\n",
        " - 위 문제 11번에서 만든 리스트의 데이터 타입을 확인해봅시다.\n",
        "> HINT : type() 를 이용하시면 됩니다. : )"
      ],
      "metadata": {
        "id": "a2PaNyWVJqc3"
      }
    },
    {
      "cell_type": "code",
      "source": [],
      "metadata": {
        "id": "58PujC5V59R4"
      },
      "execution_count": null,
      "outputs": []
    },
    {
      "cell_type": "markdown",
      "source": [
        "### 문제 4. 새로운 직원이 입사했네요!\n",
        "이 직원의 월급은 5200원입니다.\n",
        "\n",
        "이를 반영하여 코드로 구현해보고, salaries의 길이를 구해보세요.\n",
        "\n",
        "한 명이 입사했으니, 총 6명이 되었겠군요.\n",
        "\n",
        "마찬가지로, 단위인 원은 표시하지 않습니다.\n",
        "\n",
        "HINT: append()"
      ],
      "metadata": {
        "id": "bNEwV8mEJxzv"
      }
    },
    {
      "cell_type": "code",
      "source": [],
      "metadata": {
        "id": "7FZ8cJ8y581n"
      },
      "execution_count": null,
      "outputs": []
    },
    {
      "cell_type": "markdown",
      "source": [
        "### 문제 5. 새로운 직원들에게 이름을 붙이자!\n",
        "월급 정보만 있었던 직원들에게 이름과 월급을 연결하려고 합니다.\n",
        "\n",
        "김철수: 3200, 이영희: 3800, 박민수: 4100, 최수진: 4500, 정현우: 5000, 신입사원: 5200\n",
        "\n",
        "> 단위인 원은 표시하지 않습니다.\n",
        "\n",
        "데이터 타입 중 Dictionary를 사용하여 이름(name - key)과 월급(salary - value)을 연결해줍니다.\n",
        "\n",
        "이를 코드로 작성해서 employees라는 변수에 담아줍니다.\n",
        "\n",
        "\n",
        "\n",
        "\n",
        "\n"
      ],
      "metadata": {
        "id": "BQ4uciKlKC1t"
      }
    },
    {
      "cell_type": "code",
      "source": [
        "## employees 변수를 만들어주세요\n"
      ],
      "metadata": {
        "id": "INVJ-7UH1T6R"
      },
      "execution_count": null,
      "outputs": []
    },
    {
      "cell_type": "code",
      "source": [
        "## 김철수의 키를 알아볼까요?\n"
      ],
      "metadata": {
        "id": "WJ9zOGRQKt3I"
      },
      "execution_count": null,
      "outputs": []
    },
    {
      "cell_type": "markdown",
      "source": [
        "### 문제 6. 이번에는 월급으로 직원을 검색해보려고 합니다.\n",
        "예를 들면, \"5000원 받는 직원은 누구였지?\"\n",
        "\n",
        "이를 코드로 구현해보고, 월급이 5000원인 직원을 찾아봅시다.\n",
        "\n",
        "> HINT: for 문을 이용해봅시다."
      ],
      "metadata": {
        "id": "6jR8wnbHKuMl"
      }
    },
    {
      "cell_type": "code",
      "source": [],
      "metadata": {
        "id": "j27ZmT5CjDno"
      },
      "execution_count": null,
      "outputs": []
    },
    {
      "cell_type": "code",
      "source": [],
      "metadata": {
        "id": "E0dK4Ts2mSXc"
      },
      "execution_count": null,
      "outputs": []
    },
    {
      "cell_type": "markdown",
      "source": [
        "### 문제 7. 간단한 계산기 함수를 만들어봅시다.\n",
        " - 더하기 기능의 간단한 함수를 코드로 작성해봅니다.\n",
        " - 이번에는 파라미터 number_01, number_02 를 받고, 이 둘을 더하는 함수 plus()를 코드로 작성합니다.\n",
        "    - 파라미터: 함수를 선언할 때 호출하는 부분에서 보내주는 데이터를 받는 변수를 뜻합니다.\n",
        " - 함수를 구현한 후, 숫자 10과 23을 함수에 대입하여 함수를 실행해봅시다.\n",
        "\n",
        "> HINT: def function_name(a, b)"
      ],
      "metadata": {
        "id": "DLUP70DTLu-D"
      }
    },
    {
      "cell_type": "code",
      "source": [],
      "metadata": {
        "id": "P7ibFrDvjE7M"
      },
      "execution_count": null,
      "outputs": []
    },
    {
      "cell_type": "markdown",
      "source": [
        "### 문제 8. 조건문이 들어간 간단한 함수를 코드 한 줄로 구현해봅시다.\n",
        "\n",
        "- 월급이 4500 이상인 직원들에게는 \"훌륭한 월급입니다!\" 라는 메시지가 출력되고,\n",
        "\n",
        "그렇지 않은 경우에는 \"열심히 하면 더 받을 수 있을 겁니다. : )\" 라는 메시지를 출력하도록 합니다.\n",
        "\n",
        "salary_check(4600)과 salary_check(3200)을 각각 실행해볼까요?"
      ],
      "metadata": {
        "id": "8RXzzfp4QZRB"
      }
    },
    {
      "cell_type": "code",
      "source": [
        "\n"
      ],
      "metadata": {
        "id": "iOxwxictjIdP"
      },
      "execution_count": null,
      "outputs": []
    }
  ]
}